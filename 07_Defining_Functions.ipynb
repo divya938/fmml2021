{
  "nbformat": 4,
  "nbformat_minor": 0,
  "metadata": {
    "colab": {
      "name": "07_Defining_Functions.ipynb",
      "provenance": [],
      "include_colab_link": true
    },
    "kernelspec": {
      "name": "python3",
      "display_name": "Python 3"
    },
    "language_info": {
      "name": "python"
    }
  },
  "cells": [
    {
      "cell_type": "markdown",
      "metadata": {
        "id": "view-in-github",
        "colab_type": "text"
      },
      "source": [
        "<a href=\"https://colab.research.google.com/github/divya938/fmml2021/blob/main/07_Defining_Functions.ipynb\" target=\"_parent\"><img src=\"https://colab.research.google.com/assets/colab-badge.svg\" alt=\"Open In Colab\"/></a>"
      ]
    },
    {
      "cell_type": "code",
      "metadata": {
        "id": "1pqsgNqwnbHE"
      },
      "source": [
        "def inList (my_char, my_list=['a','e','i','o','u']):\n",
        "  \"\"\" this is a function to check whether a char is vowel or not \"\"\"\n",
        "  for each_char in my_list:\n",
        "    if each_char == my_char.lower():\n",
        "      return True\n",
        "  return False"
      ],
      "execution_count": 2,
      "outputs": []
    },
    {
      "cell_type": "code",
      "metadata": {
        "id": "SLpNGCWYn6Er",
        "colab": {
          "base_uri": "https://localhost:8080/"
        },
        "outputId": "c574a421-0965-4c2d-a474-76f8b898e087"
      },
      "source": [
        "inList('Z', ['x', 'y', 'z'])"
      ],
      "execution_count": 3,
      "outputs": [
        {
          "output_type": "execute_result",
          "data": {
            "text/plain": [
              "True"
            ]
          },
          "metadata": {},
          "execution_count": 3
        }
      ]
    },
    {
      "cell_type": "code",
      "metadata": {
        "colab": {
          "base_uri": "https://localhost:8080/"
        },
        "id": "_dhR6M0fFgrR",
        "outputId": "b0a6199c-d788-460e-cca8-bf7447d7d291"
      },
      "source": [
        "4**(1/2)"
      ],
      "execution_count": 5,
      "outputs": [
        {
          "output_type": "execute_result",
          "data": {
            "text/plain": [
              "2.0"
            ]
          },
          "metadata": {},
          "execution_count": 5
        }
      ]
    },
    {
      "cell_type": "code",
      "metadata": {
        "id": "r_KUNOW3rCc6",
        "colab": {
          "base_uri": "https://localhost:8080/"
        },
        "outputId": "2ec9489a-b6a9-4df4-dd8a-8cd043263779"
      },
      "source": [
        "# Write a function to check whether a given number belongs to fibonacci series or not\n",
        "\n",
        "def check_sqr(m):\n",
        "  n = int(m**(1/2))\n",
        "  return m == n*n\n",
        "def check_fibonacci(a):\n",
        "  if check_sqr((5*a**2)-4) or check_sqr((5*a**2)+4):\n",
        "    print(\"Given number {} - is part of fibonacci series\".format(a))\n",
        "  else:\n",
        "    print(\"Given number {} - is not a part of the fibonacci series\".format(a))\n",
        "\n",
        "\n",
        "N  = int(input(\"please enter an integer number:\"))\n",
        "check_fibonacci(N)"
      ],
      "execution_count": 11,
      "outputs": [
        {
          "output_type": "stream",
          "name": "stdout",
          "text": [
            "please enter an integer number:10\n",
            "Given number 10 - is not a part of the fibonacci series\n"
          ]
        }
      ]
    },
    {
      "cell_type": "markdown",
      "metadata": {
        "id": "3hfExC9BPkKK"
      },
      "source": [
        "Reference: [Python Documentation on Functions](https://docs.python.org/3/tutorial/controlflow.html#defining-functions)"
      ]
    }
  ]
}